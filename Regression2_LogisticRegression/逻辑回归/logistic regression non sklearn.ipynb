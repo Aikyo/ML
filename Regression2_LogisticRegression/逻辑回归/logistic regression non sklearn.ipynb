{
 "cells": [
  {
   "cell_type": "code",
   "execution_count": 1,
   "metadata": {},
   "outputs": [],
   "source": [
    "import numpy as np\n"
   ]
  },
  {
   "cell_type": "code",
   "execution_count": 11,
   "metadata": {},
   "outputs": [
    {
     "name": "stdout",
     "output_type": "stream",
     "text": [
      "[[1 2 3]\n",
      " [4 5 6]]\n",
      "[1 2 3]\n",
      "<class 'numpy.ndarray'>\n",
      "[1 2 3]\n",
      "[14 32]\n"
     ]
    }
   ],
   "source": [
    "a = np.ones((3,1))\n",
    "a1 = np.array((1,2,3))\n",
    "b = np.array(range(1,7)).reshape(2,3)\n",
    "c = np.array(range(1,7))\n",
    "print(b)\n",
    "#print(c)\n",
    "#print(a)\n",
    "print(a1)\n",
    "print(type(a))\n",
    "print(a1.T)\n",
    "\n",
    "print(np.dot(b,a1))"
   ]
  },
  {
   "cell_type": "code",
   "execution_count": 16,
   "metadata": {},
   "outputs": [
    {
     "name": "stdout",
     "output_type": "stream",
     "text": [
      "<class 'numpy.ndarray'>\n",
      "12\n",
      "[2 4 6]\n",
      "12\n"
     ]
    }
   ],
   "source": [
    "#If both a and b are 1-D arrays, it is inner product of vectors (without complex conjugation).\n",
    "x1 = np.array([1,2,3])\n",
    "x2 = np.array([2,2,2])\n",
    "c1 = np.dot(x1,x2)\n",
    "cc1 = x1*x2\n",
    "ccc1 = x1@x2\n",
    "print(type(x1))\n",
    "print(ccc1)\n",
    "\n",
    "print(cc1)# array的乘法是hardamand  matrix默认乘法是 matrix multiplication\n",
    "\n",
    "print(c1)# array 的点积"
   ]
  },
  {
   "cell_type": "code",
   "execution_count": 13,
   "metadata": {},
   "outputs": [
    {
     "name": "stdout",
     "output_type": "stream",
     "text": [
      "[[1 2]\n",
      " [3 4]]\n",
      "[[ 7 10]\n",
      " [15 22]]\n"
     ]
    }
   ],
   "source": [
    "x3 = np.array(range(1,5)).reshape(2,2)\n",
    "print(x3)\n",
    "x4 = np.array(range(1,5)).reshape(2,2)\n",
    "c2 = np.dot(x3,x4)\n",
    "print(c2)"
   ]
  },
  {
   "cell_type": "code",
   "execution_count": null,
   "metadata": {},
   "outputs": [],
   "source": []
  }
 ],
 "metadata": {
  "kernelspec": {
   "display_name": "Python 3",
   "language": "python",
   "name": "python3"
  },
  "language_info": {
   "codemirror_mode": {
    "name": "ipython",
    "version": 3
   },
   "file_extension": ".py",
   "mimetype": "text/x-python",
   "name": "python",
   "nbconvert_exporter": "python",
   "pygments_lexer": "ipython3",
   "version": "3.7.0"
  }
 },
 "nbformat": 4,
 "nbformat_minor": 2
}
