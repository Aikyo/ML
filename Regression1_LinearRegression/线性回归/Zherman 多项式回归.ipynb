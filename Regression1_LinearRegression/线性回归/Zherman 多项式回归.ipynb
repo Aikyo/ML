{
 "cells": [
  {
   "cell_type": "code",
   "execution_count": 34,
   "metadata": {},
   "outputs": [],
   "source": [
    "'''\n",
    "model = LinearRegression() # 回归模型\n",
    "\n",
    "poly =  PolynomialFeatures(degree = 5)#多项式特征\n",
    "x_poly =  poly.fit_transform(x)\n",
    "'''\n",
    "\n",
    "\n",
    "import numpy as np\n",
    "import matplotlib.pyplot as plt\n",
    "from sklearn.preprocessing import PolynomialFeatures\n",
    "from sklearn.linear_model import LinearRegression\n",
    "\n",
    "\n",
    "\n"
   ]
  },
  {
   "cell_type": "code",
   "execution_count": 35,
   "metadata": {},
   "outputs": [
    {
     "name": "stdout",
     "output_type": "stream",
     "text": [
      "[ 1.  2.  3.  4.  5.  6.  7.  8.  9. 10.]\n"
     ]
    },
    {
     "data": {
      "image/png": "[encoded data removed]",
      "text/plain": [
       "<Figure size 432x288 with 1 Axes>"
      ]
     },
     "metadata": {
      "needs_background": "light"
     },
     "output_type": "display_data"
    }
   ],
   "source": [
    "#load data\n",
    "data = np.genfromtxt('job.csv',delimiter = ',')\n",
    "#x = data[:,'0']\n",
    "# print(data)\n",
    "x = data[1:,1]\n",
    "y = data[1:,2]\n",
    "print(x)\n",
    "# print(y)\n",
    "plt.scatter(x,y)\n",
    "plt.show()"
   ]
  },
  {
   "cell_type": "code",
   "execution_count": 36,
   "metadata": {},
   "outputs": [
    {
     "name": "stdout",
     "output_type": "stream",
     "text": [
      "[ 1.  2.  3.  4.  5.  6.  7.  8.  9. 10.]\n",
      "(10,)\n",
      "(10, 1)\n",
      "[[ 1.]\n",
      " [ 2.]\n",
      " [ 3.]\n",
      " [ 4.]\n",
      " [ 5.]\n",
      " [ 6.]\n",
      " [ 7.]\n",
      " [ 8.]\n",
      " [ 9.]\n",
      " [10.]]\n",
      "(10, 1)\n"
     ]
    }
   ],
   "source": [
    "print(x)\n",
    "print(x.shape)\n",
    "x = x[:,np.newaxis]\n",
    "print(x.shape)\n",
    "print(x)\n",
    "y = y[:,np.newaxis]\n",
    "print(x.shape)\n"
   ]
  },
  {
   "cell_type": "code",
   "execution_count": 37,
   "metadata": {},
   "outputs": [
    {
     "name": "stdout",
     "output_type": "stream",
     "text": [
      "coefficent [[80878.78787879]]  intercept  [-195333.33333333]\n"
     ]
    },
    {
     "data": {
      "image/png": "[encoded data removed]",
      "text/plain": [
       "<Figure size 432x288 with 1 Axes>"
      ]
     },
     "metadata": {
      "needs_background": "light"
     },
     "output_type": "display_data"
    }
   ],
   "source": [
    "model = LinearRegression()\n",
    "model.fit(x,y)\n",
    "k = model.coef_\n",
    "b = model.intercept_\n",
    "print('coefficent {0}  intercept  {1}'.format(k,b))\n",
    "plt.scatter(x,y)\n",
    "plt.plot(x,model.predict(x),'y')\n",
    "\n",
    "plt.show()\n"
   ]
  },
  {
   "cell_type": "code",
   "execution_count": 38,
   "metadata": {},
   "outputs": [
    {
     "data": {
      "text/plain": [
       "LinearRegression(copy_X=True, fit_intercept=True, n_jobs=1, normalize=False)"
      ]
     },
     "execution_count": 38,
     "metadata": {},
     "output_type": "execute_result"
    }
   ],
   "source": [
    "# define mutiple regression\n",
    "poly =  PolynomialFeatures(degree = 5)\n",
    "x_poly =  poly.fit_transform(x)\n",
    "model = LinearRegression() #\n",
    "model.fit(x_poly,y)\n"
   ]
  },
  {
   "cell_type": "code",
   "execution_count": 39,
   "metadata": {},
   "outputs": [
    {
     "name": "stdout",
     "output_type": "stream",
     "text": [
      "[[ 0.00000000e+00  1.60731002e+05 -1.00378788e+05  2.81649184e+04\n",
      "  -3.44638695e+03  1.57692308e+02]]\n",
      "[-41333.33333019]\n"
     ]
    }
   ],
   "source": [
    "print(linear_reg.coef_)\n",
    "print(linear_reg.intercept_)"
   ]
  },
  {
   "cell_type": "code",
   "execution_count": 49,
   "metadata": {},
   "outputs": [
    {
     "name": "stdout",
     "output_type": "stream",
     "text": [
      "[[1.e+00 1.e+01 1.e+02 1.e+03 1.e+04 1.e+05]]\n"
     ]
    },
    {
     "data": {
      "image/png": "[encoded data removed]",
      "text/plain": [
       "<Figure size 432x288 with 1 Axes>"
      ]
     },
     "metadata": {
      "needs_background": "light"
     },
     "output_type": "display_data"
    }
   ],
   "source": [
    "plt.plot(x,model.predict(x_poly))\n",
    "t = 10\n",
    "t_poly = poly.fit_transform(t)\n",
    "print(t_poly)\n",
    "di =  model.predict(t_poly)\n",
    "plt.scatter(t,model.predict(t_poly),c = 'r')\n",
    "#plt.scatter(6,linear_reg.predict(6),'r')\n",
    "\n",
    "plt.show()"
   ]
  },
  {
   "cell_type": "code",
   "execution_count": null,
   "metadata": {},
   "outputs": [],
   "source": []
  }
 ],
 "metadata": {
  "kernelspec": {
   "display_name": "Python 3",
   "language": "python",
   "name": "python3"
  },
  "language_info": {
   "codemirror_mode": {
    "name": "ipython",
    "version": 3
   },
   "file_extension": ".py",
   "mimetype": "text/x-python",
   "name": "python",
   "nbconvert_exporter": "python",
   "pygments_lexer": "ipython3",
   "version": "3.7.0"
  }
 },
 "nbformat": 4,
 "nbformat_minor": 2
}
