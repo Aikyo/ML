{
 "cells": [
  {
   "cell_type": "code",
   "execution_count": 82,
   "metadata": {},
   "outputs": [],
   "source": [
    "import numpy as np\n",
    "import matplotlib.pyplot as plt\n",
    "import sklearn.linear_model as linear_model\n"
   ]
  },
  {
   "cell_type": "code",
   "execution_count": 83,
   "metadata": {},
   "outputs": [
    {
     "name": "stdout",
     "output_type": "stream",
     "text": [
      "(99, 1)\n",
      "-------------\n",
      "(1, 1000)\n",
      "coefficent is [[1.28735737]] and intercept is [9.90860619]\n",
      "(1, 1000)\n"
     ]
    },
    {
     "data": {
      "text/plain": [
       "<matplotlib.collections.PathCollection at 0x24674232ef0>"
      ]
     },
     "execution_count": 83,
     "metadata": {},
     "output_type": "execute_result"
    },
    {
     "data": {
      "image/png": "[encoded data removed]",
      "text/plain": [
       "<Figure size 432x288 with 1 Axes>"
      ]
     },
     "metadata": {
      "needs_background": "light"
     },
     "output_type": "display_data"
    }
   ],
   "source": [
    "data = np.genfromtxt(\"data.csv\",delimiter = ',')\n",
    "#print(data)\n",
    "x = data[1:,0,np.newaxis]\n",
    "print(x.shape)\n",
    "y = data[1:,1,np.newaxis]\n",
    "model = linear_model.LinearRegression()\n",
    "model.fit(x,y)\n",
    "x1 = np.linspace(30,70,1000)\n",
    "x1 = x1[np.newaxis,:]\n",
    "print(\"-------------\")\n",
    "print(x1.shape)\n",
    "print('coefficent is {0} and intercept is {1}'.format(model.coef_,model.intercept_))\n",
    "x1*model.coef_ + model.intercept_\n",
    "print((x1*model.coef_ + model.intercept_).shape)\n",
    "plt.plot(x1,x1*model.coef_ + model.intercept_,'g.')\n",
    "\n",
    "plt.scatter(x,y)\n"
   ]
  },
  {
   "cell_type": "code",
   "execution_count": 85,
   "metadata": {},
   "outputs": [
    {
     "name": "stdout",
     "output_type": "stream",
     "text": [
      "(99, 1)\n",
      "(99, 1)\n",
      "(99, 2)\n",
      "(99, 1)\n"
     ]
    }
   ],
   "source": [
    "i = np.ones((99,1))\n",
    "print(i.shape)\n",
    "print(x.shape)\n",
    "x_data = np.concatenate((i,x),axis=1)\n",
    "print(x_data.shape)\n",
    "print(y.shape)"
   ]
  },
  {
   "cell_type": "code",
   "execution_count": 87,
   "metadata": {},
   "outputs": [
    {
     "name": "stdout",
     "output_type": "stream",
     "text": [
      "(99, 2)\n",
      "(99, 1)\n",
      "(2, 1)\n"
     ]
    }
   ],
   "source": [
    "def Weights(x,y):\n",
    "    x = np.mat(x)\n",
    "    y = np.mat(y)\n",
    "    tem = x.T * x\n",
    "    if np.linalg.det(tem) == 0.0:\n",
    "        print('this matrix cannot be inverse!')\n",
    "        return\n",
    "    return tem.I*x.T*y\n",
    "print(x_data.shape)\n",
    "print(y.shape)\n",
    "b = Weights(x_data,y)    \n",
    "#print(x_data)\n",
    "print(b.shape)\n",
    "    "
   ]
  },
  {
   "cell_type": "code",
   "execution_count": 89,
   "metadata": {},
   "outputs": [
    {
     "name": "stdout",
     "output_type": "stream",
     "text": [
      "(99, 1)\n",
      "(99, 2)\n",
      "-----\n",
      "(1, 1)\n",
      "(2, 1)\n",
      "-----\n",
      "(2, 1)\n"
     ]
    },
    {
     "data": {
      "text/plain": [
       "[<matplotlib.lines.Line2D at 0x24674459780>]"
      ]
     },
     "execution_count": 89,
     "metadata": {},
     "output_type": "execute_result"
    },
    {
     "data": {
      "image/png": "[encoded data removed]",
      "text/plain": [
       "<Figure size 432x288 with 1 Axes>"
      ]
     },
     "metadata": {
      "needs_background": "light"
     },
     "output_type": "display_data"
    }
   ],
   "source": [
    "print(y.shape)\n",
    "print(x_data.shape)\n",
    "xx = np.array([[20],[80]])\n",
    "\n",
    "\n",
    "\n",
    "print(\"-----\")\n",
    "print(b[1].shape)\n",
    "print(xx.shape)\n",
    "yy = b[0] + xx*b[1]\n",
    "\n",
    "print(\"-----\")\n",
    "\n",
    "print(yy.shape)\n",
    "plt.plot(x_data[:,1],y,'r.')\n",
    "plt.plot(xx,yy)"
   ]
  },
  {
   "cell_type": "code",
   "execution_count": null,
   "metadata": {},
   "outputs": [],
   "source": []
  },
  {
   "cell_type": "code",
   "execution_count": null,
   "metadata": {},
   "outputs": [],
   "source": []
  }
 ],
 "metadata": {
  "kernelspec": {
   "display_name": "Python 3",
   "language": "python",
   "name": "python3"
  },
  "language_info": {
   "codemirror_mode": {
    "name": "ipython",
    "version": 3
   },
   "file_extension": ".py",
   "mimetype": "text/x-python",
   "name": "python",
   "nbconvert_exporter": "python",
   "pygments_lexer": "ipython3",
   "version": "3.7.0"
  }
 },
 "nbformat": 4,
 "nbformat_minor": 2
}
