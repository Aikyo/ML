{
 "cells": [
  {
   "cell_type": "code",
   "execution_count": 1,
   "metadata": {},
   "outputs": [
    {
     "name": "stdout",
     "output_type": "stream",
     "text": [
      "[[[12 12]]\n",
      "\n",
      " [[96 56]]]\n",
      "----------------\n",
      "--1. matrix mutiplication--------------\n",
      "[[ 9 12 15]\n",
      " [14 19 24]\n",
      " [19 26 33]]\n",
      "---4-sum product over the last axis of a and b--------------------\n",
      "[ 5  8 11]\n",
      "dot product\n",
      "[ 5  8 11]\n"
     ]
    }
   ],
   "source": [
    "import numpy as np\n",
    "\n",
    "\n",
    "'''\n",
    "dot product(inner product)\n",
    "np.dot(a,b)\n",
    "1.if both a,b are 2D arrays ,it is Matrix multiplication     a(X,n)b(n,Y) = c(X,Y)\n",
    "2.if both a,b are 1d arrays ,it is inner product of vectors\n",
    "3.if either a or b is 0d arrays ,it is equivalent to mutiply and using a*b or np.mutiply(a,b) id preferred \n",
    "4.if a is an nD array and b is a 1D array ,it is a sum product over the last axis of a and b\n",
    "5.if a is an nD array and b is an mD array (where m > 2 ), it is a sum product over the last axis of a and the second-to-last axis of b\n",
    "\n",
    "'''\n",
    "x = ((12,(2,12)),3,45,1)\n",
    "y = [[12,12,22,[45,89]]]\n",
    "\n",
    "#print(x)\n",
    "b =  np.array([[[12,12]],[[96,56]]])\n",
    "#print(b.shape)\n",
    "print(b)\n",
    "print('----------------')\n",
    "a = np.array([[1,2],[2,3],[3,4]])\n",
    "\n",
    "d = np.array([[1,2,3],[4,5,6]])\n",
    "print('--1. matrix mutiplication--------------')\n",
    "# 1. matrix mutiplication\n",
    "f = np.dot(a,d)\n",
    "print(f)\n",
    "\n",
    "# 4.\n",
    "print('---4-sum product over the last axis of a and b--------------------')\n",
    "r = np.array([1,2])\n",
    "rr = np.dot(a,r)\n",
    "print(rr)\n",
    "\n",
    "print('dot product')\n",
    "\n",
    "b = np.array([1,2])\n",
    "##\n",
    "\n",
    "\n",
    "c = np.dot(a,b)\n",
    "print(c)"
   ]
  },
  {
   "cell_type": "code",
   "execution_count": 2,
   "metadata": {},
   "outputs": [
    {
     "name": "stdout",
     "output_type": "stream",
     "text": [
      "-----------determinant----------\n",
      "-2.0000000000000004\n",
      "-------------\n",
      "[[1 2]\n",
      " [3 4]]\n",
      "[[-2.   1. ]\n",
      " [ 1.5 -0.5]]\n",
      "[[1 2]\n",
      " [3 4]]\n"
     ]
    }
   ],
   "source": [
    "'''\n",
    "determinant\n",
    "inverse   : \n",
    "transpose\n",
    "'''\n",
    "print(\"-----------determinant----------\")\n",
    "x = np.arange(1,5).reshape(2,2)\n",
    "a = np.linalg.det(x)\n",
    "print(a)\n",
    "print(\"-------------\")\n",
    "\n",
    "xmat = np.mat(x)\n",
    "print(xmat)\n",
    "print(xmat.I)\n",
    "print(x)\n",
    "\n",
    "\n"
   ]
  },
  {
   "cell_type": "code",
   "execution_count": 3,
   "metadata": {},
   "outputs": [
    {
     "name": "stdout",
     "output_type": "stream",
     "text": [
      "(2, 1)\n",
      "(2, 1)\n"
     ]
    }
   ],
   "source": [
    "a = np.array([[1],[2]])\n",
    "print(a.shape)\n",
    "y = 1 + 3 * a\n",
    "print(y.shape)"
   ]
  },
  {
   "cell_type": "code",
   "execution_count": 6,
   "metadata": {},
   "outputs": [
    {
     "name": "stdout",
     "output_type": "stream",
     "text": [
      "[ 2.71828183  7.3890561  20.08553692]\n"
     ]
    }
   ],
   "source": [
    "'''\n",
    "np.exp(x) \n",
    "Calculate the exponential of all elements in the input array.\n",
    "'''\n",
    "a = np.exp([1,2,3])\n",
    "print(a)\n"
   ]
  },
  {
   "cell_type": "code",
   "execution_count": 7,
   "metadata": {},
   "outputs": [
    {
     "name": "stdout",
     "output_type": "stream",
     "text": [
      "[ 1.   2.5  4.   5.5  7.   8.5 10.  11.5]\n"
     ]
    }
   ],
   "source": [
    "'''\n",
    "#np.arange(start,stop.step,datatype)\n",
    "\n",
    "start: option default value 0\n",
    "step:default value 1\n",
    "'''\n",
    "b = np.arange(1,12,1.5)\n",
    "print(b)"
   ]
  },
  {
   "cell_type": "code",
   "execution_count": null,
   "metadata": {},
   "outputs": [],
   "source": []
  }
 ],
 "metadata": {
  "kernelspec": {
   "display_name": "Python 3",
   "language": "python",
   "name": "python3"
  },
  "language_info": {
   "codemirror_mode": {
    "name": "ipython",
    "version": 3
   },
   "file_extension": ".py",
   "mimetype": "text/x-python",
   "name": "python",
   "nbconvert_exporter": "python",
   "pygments_lexer": "ipython3",
   "version": "3.7.0"
  }
 },
 "nbformat": 4,
 "nbformat_minor": 2
}
