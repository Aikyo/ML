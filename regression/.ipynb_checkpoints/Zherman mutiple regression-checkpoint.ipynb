{
 "cells": [
  {
   "cell_type": "code",
   "execution_count": 2,
   "metadata": {},
   "outputs": [
    {
     "name": "stdout",
     "output_type": "stream",
     "text": [
      "     x  y    z\n",
      "0  100  4  9.3\n",
      "1   50  3  4.8\n",
      "2  100  4  8.9\n",
      "3  100  2  6.5\n",
      "4   50  2  4.2\n",
      "5   80  2  6.2\n",
      "6   75  3  7.4\n",
      "7   65  4  6.0\n",
      "8   90  3  7.6\n",
      "9   90  2  6.1\n",
      "90\n"
     ]
    }
   ],
   "source": [
    "import numpy as np\n",
    "import pandas as pd\n",
    "import matplotlib as plt\n",
    "\n",
    "data = pd.read_csv('Delivery.csv',delimiter = ',')\n",
    "indep = data[['x','y']]\n",
    "X = data['x']\n",
    "Y = data['y']\n",
    "Z = data['z']\n",
    "print(data)\n",
    "print(X[9])\n",
    "#print(data)\n",
    "# print(indep)\n",
    "# print('----------')\n",
    "# print(indep.iloc[:,0:1])\n",
    "# print('--------------')\n",
    "# print(dep[0:2])"
   ]
  },
  {
   "cell_type": "code",
   "execution_count": 3,
   "metadata": {},
   "outputs": [
    {
     "name": "stdout",
     "output_type": "stream",
     "text": [
      "47.28000000000001\n"
     ]
    }
   ],
   "source": [
    "def LeastSquare(x,y,z,a,b,c):\n",
    "    MeanError = 0\n",
    "    for i in range(0,len(x)):\n",
    "        MeanError += (1/float(len(x)))*(a*x[i] + b*y[i] + c - z[i])**2\n",
    "    return MeanError\n",
    "\n",
    "MeanError = LeastSquare(X,Y,Z,0,0,0)\n",
    "print(MeanError)\n",
    "    "
   ]
  },
  {
   "cell_type": "code",
   "execution_count": 6,
   "metadata": {},
   "outputs": [
    {
     "name": "stdout",
     "output_type": "stream",
     "text": [
      "a = 0 ,b = 0 c = 0 MeanError = 47.28000000000001\n",
      "a = 0.08021042690771771 ,b = 0.07611036240566814 c = 0.006971416196678633 MeanError = 0.7731271432218119\n"
     ]
    }
   ],
   "source": [
    "def GradientDescent(x,y,z,a,b,c,lr,e):\n",
    "    \n",
    "    for i in range(0,e):\n",
    "        a_grad = 0\n",
    "        b_grad = 0\n",
    "        c_grad = 0\n",
    "        for j in range(0,len(x)):\n",
    "            a_grad += (1/float(len(x)))* ( a*x[j] + b*y[j] + c - z[j] ) * x[j]\n",
    "            b_grad += (1/float(len(x)))* ( a*x[j] + b*y[j] + c - z[j] ) * y[j]\n",
    "            c_grad += (1/float(len(x)))* ( a*x[j] + b*y[j] + c - z[j] )\n",
    "#         print(a_grad)\n",
    "#         print(a_grad)\n",
    "#         print(a_grad)\n",
    "        a = a - lr*a_grad\n",
    "        b = b - lr*b_grad\n",
    "        c = c - lr*c_grad\n",
    "    return a,b,c\n",
    "\n",
    "MeanError = LeastSquare(X,Y,Z,0,0,0)\n",
    "print('a = {0} ,b = {1} c = {2} MeanError = {3}'.format(0,0,0,MeanError))\n",
    "                       \n",
    "        \n",
    "a,b,c = GradientDescent(X,Y,Z,0,0,0,0.0001,1000)\n",
    "MeanError = LeastSquare(X,Y,Z,a,b,c)\n",
    "print('a = {0} ,b = {1} c = {2} MeanError = {3}'.format(a,b,c,MeanError))   \n",
    "    "
   ]
  },
  {
   "cell_type": "code",
   "execution_count": null,
   "metadata": {},
   "outputs": [],
   "source": []
  }
 ],
 "metadata": {
  "kernelspec": {
   "display_name": "Python 3",
   "language": "python",
   "name": "python3"
  },
  "language_info": {
   "codemirror_mode": {
    "name": "ipython",
    "version": 3
   },
   "file_extension": ".py",
   "mimetype": "text/x-python",
   "name": "python",
   "nbconvert_exporter": "python",
   "pygments_lexer": "ipython3",
   "version": "3.7.0"
  }
 },
 "nbformat": 4,
 "nbformat_minor": 2
}
